{
  "nbformat": 4,
  "nbformat_minor": 0,
  "metadata": {
    "colab": {
      "name": "cifar10.ipynb",
      "provenance": [],
      "authorship_tag": "ABX9TyMa2tfYKAs/TiMo5M/eI1yz",
      "include_colab_link": true
    },
    "kernelspec": {
      "name": "python3",
      "display_name": "Python 3"
    },
    "accelerator": "GPU"
  },
  "cells": [
    {
      "cell_type": "markdown",
      "metadata": {
        "id": "view-in-github",
        "colab_type": "text"
      },
      "source": [
        "<a href=\"https://colab.research.google.com/github/Aunabil4602/Deep-learning-on-keras-minst-datasets/blob/master/cifar10.ipynb\" target=\"_parent\"><img src=\"https://colab.research.google.com/assets/colab-badge.svg\" alt=\"Open In Colab\"/></a>"
      ]
    },
    {
      "cell_type": "code",
      "metadata": {
        "id": "QYl-vP0pQxmu",
        "colab_type": "code",
        "outputId": "bf0eecb5-1c48-4406-f76c-23d9e7e34b8f",
        "colab": {
          "base_uri": "https://localhost:8080/",
          "height": 34
        }
      },
      "source": [
        "%tensorflow_version 1.x"
      ],
      "execution_count": 1,
      "outputs": [
        {
          "output_type": "stream",
          "text": [
            "TensorFlow 1.x selected.\n"
          ],
          "name": "stdout"
        }
      ]
    },
    {
      "cell_type": "code",
      "metadata": {
        "id": "5DTR_FTqNo9o",
        "colab_type": "code",
        "outputId": "48e1d0e0-11c7-41da-d94d-b660eca51eb0",
        "colab": {
          "base_uri": "https://localhost:8080/",
          "height": 34
        }
      },
      "source": [
        "from keras.datasets import cifar100\n",
        "(x_train,y_train),(x_test,y_test)=cifar100.load_data()"
      ],
      "execution_count": 2,
      "outputs": [
        {
          "output_type": "stream",
          "text": [
            "Using TensorFlow backend.\n"
          ],
          "name": "stderr"
        }
      ]
    },
    {
      "cell_type": "code",
      "metadata": {
        "id": "1LUd3CwcOMDE",
        "colab_type": "code",
        "outputId": "3efec7c8-307f-49d2-b7f7-c787eb1d6587",
        "colab": {
          "base_uri": "https://localhost:8080/",
          "height": 1000
        }
      },
      "source": [
        "import numpy as np\n",
        "\n",
        "print(x_train.shape)\n",
        "print(y_train.shape)\n",
        "cnt=np.zeros(100)\n",
        "for it in range(10000):\n",
        "  cnt[y_test[it]]+=1\n",
        "for it in range(100):\n",
        "  print(cnt[it])"
      ],
      "execution_count": 3,
      "outputs": [
        {
          "output_type": "stream",
          "text": [
            "(50000, 32, 32, 3)\n",
            "(50000, 1)\n",
            "100.0\n",
            "100.0\n",
            "100.0\n",
            "100.0\n",
            "100.0\n",
            "100.0\n",
            "100.0\n",
            "100.0\n",
            "100.0\n",
            "100.0\n",
            "100.0\n",
            "100.0\n",
            "100.0\n",
            "100.0\n",
            "100.0\n",
            "100.0\n",
            "100.0\n",
            "100.0\n",
            "100.0\n",
            "100.0\n",
            "100.0\n",
            "100.0\n",
            "100.0\n",
            "100.0\n",
            "100.0\n",
            "100.0\n",
            "100.0\n",
            "100.0\n",
            "100.0\n",
            "100.0\n",
            "100.0\n",
            "100.0\n",
            "100.0\n",
            "100.0\n",
            "100.0\n",
            "100.0\n",
            "100.0\n",
            "100.0\n",
            "100.0\n",
            "100.0\n",
            "100.0\n",
            "100.0\n",
            "100.0\n",
            "100.0\n",
            "100.0\n",
            "100.0\n",
            "100.0\n",
            "100.0\n",
            "100.0\n",
            "100.0\n",
            "100.0\n",
            "100.0\n",
            "100.0\n",
            "100.0\n",
            "100.0\n",
            "100.0\n",
            "100.0\n",
            "100.0\n",
            "100.0\n",
            "100.0\n",
            "100.0\n",
            "100.0\n",
            "100.0\n",
            "100.0\n",
            "100.0\n",
            "100.0\n",
            "100.0\n",
            "100.0\n",
            "100.0\n",
            "100.0\n",
            "100.0\n",
            "100.0\n",
            "100.0\n",
            "100.0\n",
            "100.0\n",
            "100.0\n",
            "100.0\n",
            "100.0\n",
            "100.0\n",
            "100.0\n",
            "100.0\n",
            "100.0\n",
            "100.0\n",
            "100.0\n",
            "100.0\n",
            "100.0\n",
            "100.0\n",
            "100.0\n",
            "100.0\n",
            "100.0\n",
            "100.0\n",
            "100.0\n",
            "100.0\n",
            "100.0\n",
            "100.0\n",
            "100.0\n",
            "100.0\n",
            "100.0\n",
            "100.0\n",
            "100.0\n"
          ],
          "name": "stdout"
        }
      ]
    },
    {
      "cell_type": "code",
      "metadata": {
        "id": "6rL6cQiQ7MeV",
        "colab_type": "code",
        "colab": {}
      },
      "source": [
        "from keras.preprocessing.image import ImageDataGenerator\n",
        "datagen = ImageDataGenerator(\n",
        "    rescale=1.0/255,\n",
        "    rotation_range=5,\n",
        "    width_shift_range=0.05,\n",
        "    height_shift_range=0.05,\n",
        "    zoom_range=[1.1,0.9],\n",
        "    horizontal_flip=True,\n",
        "    shear_range=5.0\n",
        ")\n",
        "datagen.fit(x_train)"
      ],
      "execution_count": 0,
      "outputs": []
    },
    {
      "cell_type": "code",
      "metadata": {
        "id": "vhjFszbX81va",
        "colab_type": "code",
        "colab": {}
      },
      "source": [
        ""
      ],
      "execution_count": 0,
      "outputs": []
    },
    {
      "cell_type": "code",
      "metadata": {
        "id": "KzPGcbfxOUYl",
        "colab_type": "code",
        "colab": {}
      },
      "source": [
        "import tensorflow as tf\n",
        "import numpy as np\n",
        "import matplotlib.pyplot as plt"
      ],
      "execution_count": 0,
      "outputs": []
    },
    {
      "cell_type": "code",
      "metadata": {
        "id": "JjJXNG6hQUtP",
        "colab_type": "code",
        "colab": {}
      },
      "source": [
        "from keras.layers import Conv2D,Dense,Input,BatchNormalization,MaxPooling2D,Flatten,Dropout\n",
        "from keras.models import Model\n",
        "from keras.utils import to_categorical"
      ],
      "execution_count": 0,
      "outputs": []
    },
    {
      "cell_type": "code",
      "metadata": {
        "id": "9neJ9IsfOkYl",
        "colab_type": "code",
        "colab": {}
      },
      "source": [
        "def modelMain(inp,classes):\n",
        "  X=Conv2D(32,(3,3),strides=1,padding='same',activation='relu')(inp)\n",
        "  X=Conv2D(32,(3,3),strides=1,padding='same',activation='relu')(X)\n",
        "  X=Conv2D(32,(3,3),strides=1,padding='same',activation='relu')(X)\n",
        "  X=BatchNormalization(axis=-1)(X)\n",
        "  X=MaxPooling2D((2,2))(X)\n",
        "  X=Dropout(0.25)(X)\n",
        "\n",
        "  X=Conv2D(64,(3,3),strides=1,padding='same',activation='relu')(X)\n",
        "  X=Conv2D(64,(3,3),strides=1,padding='same',activation='relu')(X)\n",
        "  X=Conv2D(64,(3,3),strides=1,padding='same',activation='relu')(X)\n",
        "  X=BatchNormalization(axis=-1)(X)\n",
        "  X=MaxPooling2D((2,2))(X)\n",
        "  X=Dropout(0.25)(X)\n",
        "\n",
        "  X=Conv2D(128,(3,3),strides=1,padding='same',activation='relu')(X)\n",
        "  X=Conv2D(128,(3,3),strides=1,padding='same',activation='relu')(X)\n",
        "  X=Conv2D(128,(3,3),strides=1,padding='same',activation='relu')(X)\n",
        "  X=BatchNormalization(axis=-1)(X)\n",
        "  X=MaxPooling2D((2,2))(X)\n",
        "  X=Dropout(0.25)(X)\n",
        "\n",
        "  X=Conv2D(256,(3,3),strides=1,padding='same',activation='relu')(X)\n",
        "  X=Conv2D(256,(3,3),strides=1,padding='same',activation='relu')(X)\n",
        "  X=Conv2D(256,(3,3),strides=1,padding='same',activation='relu')(X)\n",
        "  X=BatchNormalization(axis=-1)(X)\n",
        "  X=MaxPooling2D((2,2))(X)\n",
        "  X=Dropout(0.25)(X)\n",
        "\n",
        "  X=Conv2D(512,(3,3),strides=1,padding='same',activation='relu')(X)\n",
        "  X=Conv2D(512,(3,3),strides=1,padding='same',activation='relu')(X)\n",
        "  X=Conv2D(512,(3,3),strides=1,padding='same',activation='relu')(X)\n",
        "  X=BatchNormalization(axis=-1)(X)\n",
        "  X=MaxPooling2D((2,2))(X)\n",
        "  X=Dropout(0.25)(X)\n",
        "\n",
        "  X=Flatten()(X)\n",
        "  X=Dense(1024,activation='relu')(X)\n",
        "  X=Dense(1024,activation='relu')(X)\n",
        "\n",
        "  X=Dense(classes,activation='softmax')(X)\n",
        "  return X"
      ],
      "execution_count": 0,
      "outputs": []
    },
    {
      "cell_type": "code",
      "metadata": {
        "id": "G17WYW7lQjfd",
        "colab_type": "code",
        "outputId": "e61d3c9e-e10b-4693-c809-2afe334b149e",
        "colab": {
          "base_uri": "https://localhost:8080/",
          "height": 1000
        }
      },
      "source": [
        "inp=Input((32,32,3))\n",
        "classes=100\n",
        "model=modelMain(inp,classes)\n",
        "model=Model(inp,model)\n",
        "model.compile(optimizer='adam',loss='categorical_crossentropy',metrics=['accuracy'])\n",
        "model.summary()"
      ],
      "execution_count": 8,
      "outputs": [
        {
          "output_type": "stream",
          "text": [
            "WARNING:tensorflow:From /usr/local/lib/python3.6/dist-packages/keras/backend/tensorflow_backend.py:66: The name tf.get_default_graph is deprecated. Please use tf.compat.v1.get_default_graph instead.\n",
            "\n",
            "WARNING:tensorflow:From /usr/local/lib/python3.6/dist-packages/keras/backend/tensorflow_backend.py:541: The name tf.placeholder is deprecated. Please use tf.compat.v1.placeholder instead.\n",
            "\n",
            "WARNING:tensorflow:From /usr/local/lib/python3.6/dist-packages/keras/backend/tensorflow_backend.py:4432: The name tf.random_uniform is deprecated. Please use tf.random.uniform instead.\n",
            "\n",
            "WARNING:tensorflow:From /usr/local/lib/python3.6/dist-packages/keras/backend/tensorflow_backend.py:190: The name tf.get_default_session is deprecated. Please use tf.compat.v1.get_default_session instead.\n",
            "\n",
            "WARNING:tensorflow:From /usr/local/lib/python3.6/dist-packages/keras/backend/tensorflow_backend.py:197: The name tf.ConfigProto is deprecated. Please use tf.compat.v1.ConfigProto instead.\n",
            "\n",
            "WARNING:tensorflow:From /usr/local/lib/python3.6/dist-packages/keras/backend/tensorflow_backend.py:203: The name tf.Session is deprecated. Please use tf.compat.v1.Session instead.\n",
            "\n",
            "WARNING:tensorflow:From /usr/local/lib/python3.6/dist-packages/keras/backend/tensorflow_backend.py:207: The name tf.global_variables is deprecated. Please use tf.compat.v1.global_variables instead.\n",
            "\n",
            "WARNING:tensorflow:From /usr/local/lib/python3.6/dist-packages/keras/backend/tensorflow_backend.py:216: The name tf.is_variable_initialized is deprecated. Please use tf.compat.v1.is_variable_initialized instead.\n",
            "\n",
            "WARNING:tensorflow:From /usr/local/lib/python3.6/dist-packages/keras/backend/tensorflow_backend.py:223: The name tf.variables_initializer is deprecated. Please use tf.compat.v1.variables_initializer instead.\n",
            "\n",
            "WARNING:tensorflow:From /usr/local/lib/python3.6/dist-packages/keras/backend/tensorflow_backend.py:2041: The name tf.nn.fused_batch_norm is deprecated. Please use tf.compat.v1.nn.fused_batch_norm instead.\n",
            "\n",
            "WARNING:tensorflow:From /usr/local/lib/python3.6/dist-packages/keras/backend/tensorflow_backend.py:148: The name tf.placeholder_with_default is deprecated. Please use tf.compat.v1.placeholder_with_default instead.\n",
            "\n",
            "WARNING:tensorflow:From /usr/local/lib/python3.6/dist-packages/keras/backend/tensorflow_backend.py:4267: The name tf.nn.max_pool is deprecated. Please use tf.nn.max_pool2d instead.\n",
            "\n",
            "WARNING:tensorflow:From /usr/local/lib/python3.6/dist-packages/keras/backend/tensorflow_backend.py:3733: calling dropout (from tensorflow.python.ops.nn_ops) with keep_prob is deprecated and will be removed in a future version.\n",
            "Instructions for updating:\n",
            "Please use `rate` instead of `keep_prob`. Rate should be set to `rate = 1 - keep_prob`.\n",
            "WARNING:tensorflow:From /usr/local/lib/python3.6/dist-packages/keras/optimizers.py:793: The name tf.train.Optimizer is deprecated. Please use tf.compat.v1.train.Optimizer instead.\n",
            "\n",
            "WARNING:tensorflow:From /usr/local/lib/python3.6/dist-packages/keras/backend/tensorflow_backend.py:3576: The name tf.log is deprecated. Please use tf.math.log instead.\n",
            "\n",
            "Model: \"model_1\"\n",
            "_________________________________________________________________\n",
            "Layer (type)                 Output Shape              Param #   \n",
            "=================================================================\n",
            "input_1 (InputLayer)         (None, 32, 32, 3)         0         \n",
            "_________________________________________________________________\n",
            "conv2d_1 (Conv2D)            (None, 32, 32, 32)        896       \n",
            "_________________________________________________________________\n",
            "conv2d_2 (Conv2D)            (None, 32, 32, 32)        9248      \n",
            "_________________________________________________________________\n",
            "conv2d_3 (Conv2D)            (None, 32, 32, 32)        9248      \n",
            "_________________________________________________________________\n",
            "batch_normalization_1 (Batch (None, 32, 32, 32)        128       \n",
            "_________________________________________________________________\n",
            "max_pooling2d_1 (MaxPooling2 (None, 16, 16, 32)        0         \n",
            "_________________________________________________________________\n",
            "dropout_1 (Dropout)          (None, 16, 16, 32)        0         \n",
            "_________________________________________________________________\n",
            "conv2d_4 (Conv2D)            (None, 16, 16, 64)        18496     \n",
            "_________________________________________________________________\n",
            "conv2d_5 (Conv2D)            (None, 16, 16, 64)        36928     \n",
            "_________________________________________________________________\n",
            "conv2d_6 (Conv2D)            (None, 16, 16, 64)        36928     \n",
            "_________________________________________________________________\n",
            "batch_normalization_2 (Batch (None, 16, 16, 64)        256       \n",
            "_________________________________________________________________\n",
            "max_pooling2d_2 (MaxPooling2 (None, 8, 8, 64)          0         \n",
            "_________________________________________________________________\n",
            "dropout_2 (Dropout)          (None, 8, 8, 64)          0         \n",
            "_________________________________________________________________\n",
            "conv2d_7 (Conv2D)            (None, 8, 8, 128)         73856     \n",
            "_________________________________________________________________\n",
            "conv2d_8 (Conv2D)            (None, 8, 8, 128)         147584    \n",
            "_________________________________________________________________\n",
            "conv2d_9 (Conv2D)            (None, 8, 8, 128)         147584    \n",
            "_________________________________________________________________\n",
            "batch_normalization_3 (Batch (None, 8, 8, 128)         512       \n",
            "_________________________________________________________________\n",
            "max_pooling2d_3 (MaxPooling2 (None, 4, 4, 128)         0         \n",
            "_________________________________________________________________\n",
            "dropout_3 (Dropout)          (None, 4, 4, 128)         0         \n",
            "_________________________________________________________________\n",
            "conv2d_10 (Conv2D)           (None, 4, 4, 256)         295168    \n",
            "_________________________________________________________________\n",
            "conv2d_11 (Conv2D)           (None, 4, 4, 256)         590080    \n",
            "_________________________________________________________________\n",
            "conv2d_12 (Conv2D)           (None, 4, 4, 256)         590080    \n",
            "_________________________________________________________________\n",
            "batch_normalization_4 (Batch (None, 4, 4, 256)         1024      \n",
            "_________________________________________________________________\n",
            "max_pooling2d_4 (MaxPooling2 (None, 2, 2, 256)         0         \n",
            "_________________________________________________________________\n",
            "dropout_4 (Dropout)          (None, 2, 2, 256)         0         \n",
            "_________________________________________________________________\n",
            "conv2d_13 (Conv2D)           (None, 2, 2, 512)         1180160   \n",
            "_________________________________________________________________\n",
            "conv2d_14 (Conv2D)           (None, 2, 2, 512)         2359808   \n",
            "_________________________________________________________________\n",
            "conv2d_15 (Conv2D)           (None, 2, 2, 512)         2359808   \n",
            "_________________________________________________________________\n",
            "batch_normalization_5 (Batch (None, 2, 2, 512)         2048      \n",
            "_________________________________________________________________\n",
            "max_pooling2d_5 (MaxPooling2 (None, 1, 1, 512)         0         \n",
            "_________________________________________________________________\n",
            "dropout_5 (Dropout)          (None, 1, 1, 512)         0         \n",
            "_________________________________________________________________\n",
            "flatten_1 (Flatten)          (None, 512)               0         \n",
            "_________________________________________________________________\n",
            "dense_1 (Dense)              (None, 1024)              525312    \n",
            "_________________________________________________________________\n",
            "dense_2 (Dense)              (None, 1024)              1049600   \n",
            "_________________________________________________________________\n",
            "dense_3 (Dense)              (None, 100)               102500    \n",
            "=================================================================\n",
            "Total params: 9,537,252\n",
            "Trainable params: 9,535,268\n",
            "Non-trainable params: 1,984\n",
            "_________________________________________________________________\n"
          ],
          "name": "stdout"
        }
      ]
    },
    {
      "cell_type": "code",
      "metadata": {
        "id": "7foev5-3TBuU",
        "colab_type": "code",
        "colab": {}
      },
      "source": [
        "y_train=to_categorical(y_train)\n",
        "y_test=to_categorical(y_test)\n",
        "#x_train=x_train/255\n",
        "#x_test=x_test/255"
      ],
      "execution_count": 0,
      "outputs": []
    },
    {
      "cell_type": "code",
      "metadata": {
        "id": "x7WqOEJ2TIoM",
        "colab_type": "code",
        "outputId": "7cd81cc5-76da-4eea-d55d-4254692f68cf",
        "colab": {
          "base_uri": "https://localhost:8080/",
          "height": 50
        }
      },
      "source": [
        "print(y_train.shape)\n",
        "print(y_test.shape)"
      ],
      "execution_count": 10,
      "outputs": [
        {
          "output_type": "stream",
          "text": [
            "(50000, 100)\n",
            "(10000, 100)\n"
          ],
          "name": "stdout"
        }
      ]
    },
    {
      "cell_type": "code",
      "metadata": {
        "id": "TIeZDgV5XxL1",
        "colab_type": "code",
        "colab": {}
      },
      "source": [
        "from keras.callbacks import ReduceLROnPlateau"
      ],
      "execution_count": 0,
      "outputs": []
    },
    {
      "cell_type": "code",
      "metadata": {
        "id": "FBefrrCKT9w8",
        "colab_type": "code",
        "outputId": "5c05ac7b-c3ff-497c-b799-e304c78352a7",
        "colab": {
          "base_uri": "https://localhost:8080/",
          "height": 1000
        }
      },
      "source": [
        "EP=50\n",
        "reduce_lr = ReduceLROnPlateau(monitor='acc', factor=0.5,patience=5, min_lr=0.00001,verbose=1)\n",
        "history=model.fit_generator(datagen.flow(x_train,y_train,batch_size=128),verbose=1,epochs=EP,validation_data=datagen.flow(x_test,y_test,batch_size=128),callbacks=[reduce_lr])"
      ],
      "execution_count": 13,
      "outputs": [
        {
          "output_type": "stream",
          "text": [
            "WARNING:tensorflow:From /tensorflow-1.15.2/python3.6/tensorflow_core/python/ops/math_grad.py:1424: where (from tensorflow.python.ops.array_ops) is deprecated and will be removed in a future version.\n",
            "Instructions for updating:\n",
            "Use tf.where in 2.0, which has the same broadcast rule as np.where\n",
            "WARNING:tensorflow:From /usr/local/lib/python3.6/dist-packages/keras/backend/tensorflow_backend.py:1033: The name tf.assign_add is deprecated. Please use tf.compat.v1.assign_add instead.\n",
            "\n",
            "WARNING:tensorflow:From /usr/local/lib/python3.6/dist-packages/keras/backend/tensorflow_backend.py:1020: The name tf.assign is deprecated. Please use tf.compat.v1.assign instead.\n",
            "\n",
            "Epoch 1/50\n",
            "391/391 [==============================] - 36s 92ms/step - loss: 4.3042 - acc: 0.0321 - val_loss: 5.0305 - val_acc: 0.0220\n",
            "Epoch 2/50\n",
            "391/391 [==============================] - 31s 80ms/step - loss: 3.9638 - acc: 0.0665 - val_loss: 4.0150 - val_acc: 0.0675\n",
            "Epoch 3/50\n",
            "391/391 [==============================] - 31s 80ms/step - loss: 3.8008 - acc: 0.0897 - val_loss: 4.4117 - val_acc: 0.0575\n",
            "Epoch 4/50\n",
            "391/391 [==============================] - 31s 79ms/step - loss: 3.6615 - acc: 0.1119 - val_loss: 3.6839 - val_acc: 0.1159\n",
            "Epoch 5/50\n",
            "391/391 [==============================] - 32s 81ms/step - loss: 3.5176 - acc: 0.1339 - val_loss: 3.5109 - val_acc: 0.1394\n",
            "Epoch 6/50\n",
            "391/391 [==============================] - 31s 79ms/step - loss: 3.4005 - acc: 0.1530 - val_loss: 3.5172 - val_acc: 0.1486\n",
            "Epoch 7/50\n",
            "391/391 [==============================] - 31s 79ms/step - loss: 3.2670 - acc: 0.1748 - val_loss: 3.3325 - val_acc: 0.1714\n",
            "Epoch 8/50\n",
            "391/391 [==============================] - 31s 80ms/step - loss: 3.1484 - acc: 0.1967 - val_loss: 3.1431 - val_acc: 0.2067\n",
            "Epoch 9/50\n",
            "391/391 [==============================] - 31s 80ms/step - loss: 3.0384 - acc: 0.2189 - val_loss: 2.9704 - val_acc: 0.2389\n",
            "Epoch 10/50\n",
            "391/391 [==============================] - 31s 80ms/step - loss: 2.9223 - acc: 0.2410 - val_loss: 2.9234 - val_acc: 0.2480\n",
            "Epoch 11/50\n",
            "391/391 [==============================] - 32s 81ms/step - loss: 2.8227 - acc: 0.2611 - val_loss: 2.9646 - val_acc: 0.2400\n",
            "Epoch 12/50\n",
            "391/391 [==============================] - 31s 80ms/step - loss: 2.7262 - acc: 0.2839 - val_loss: 2.8382 - val_acc: 0.2761\n",
            "Epoch 13/50\n",
            "391/391 [==============================] - 31s 80ms/step - loss: 2.6397 - acc: 0.3028 - val_loss: 2.6835 - val_acc: 0.3077\n",
            "Epoch 14/50\n",
            "391/391 [==============================] - 31s 80ms/step - loss: 2.5653 - acc: 0.3200 - val_loss: 2.7089 - val_acc: 0.3035\n",
            "Epoch 15/50\n",
            "391/391 [==============================] - 31s 80ms/step - loss: 2.4860 - acc: 0.3367 - val_loss: 2.6012 - val_acc: 0.3296\n",
            "Epoch 16/50\n",
            "391/391 [==============================] - 32s 81ms/step - loss: 2.4205 - acc: 0.3523 - val_loss: 2.5918 - val_acc: 0.3450\n",
            "Epoch 17/50\n",
            "391/391 [==============================] - 31s 80ms/step - loss: 2.3734 - acc: 0.3611 - val_loss: 2.4837 - val_acc: 0.3543\n",
            "Epoch 18/50\n",
            "391/391 [==============================] - 31s 80ms/step - loss: 2.2993 - acc: 0.3830 - val_loss: 2.3930 - val_acc: 0.3694\n",
            "Epoch 19/50\n",
            "391/391 [==============================] - 31s 79ms/step - loss: 2.2391 - acc: 0.3987 - val_loss: 2.6005 - val_acc: 0.3513\n",
            "Epoch 20/50\n",
            "391/391 [==============================] - 31s 80ms/step - loss: 2.1785 - acc: 0.4098 - val_loss: 2.2551 - val_acc: 0.4075\n",
            "Epoch 21/50\n",
            "391/391 [==============================] - 32s 81ms/step - loss: 2.1291 - acc: 0.4197 - val_loss: 2.2629 - val_acc: 0.4086\n",
            "Epoch 22/50\n",
            "391/391 [==============================] - 31s 80ms/step - loss: 2.0886 - acc: 0.4324 - val_loss: 2.2409 - val_acc: 0.4192\n",
            "Epoch 23/50\n",
            "391/391 [==============================] - 31s 80ms/step - loss: 2.0470 - acc: 0.4461 - val_loss: 2.4355 - val_acc: 0.3956\n",
            "Epoch 24/50\n",
            "391/391 [==============================] - 32s 81ms/step - loss: 1.9949 - acc: 0.4578 - val_loss: 2.1654 - val_acc: 0.4450\n",
            "Epoch 25/50\n",
            "391/391 [==============================] - 31s 80ms/step - loss: 1.9597 - acc: 0.4678 - val_loss: 2.2404 - val_acc: 0.4252\n",
            "Epoch 26/50\n",
            "391/391 [==============================] - 31s 80ms/step - loss: 1.9153 - acc: 0.4767 - val_loss: 2.1545 - val_acc: 0.4399\n",
            "Epoch 27/50\n",
            "391/391 [==============================] - 31s 80ms/step - loss: 1.8888 - acc: 0.4848 - val_loss: 2.2052 - val_acc: 0.4480\n",
            "Epoch 28/50\n",
            "391/391 [==============================] - 31s 80ms/step - loss: 1.8581 - acc: 0.4913 - val_loss: 2.1393 - val_acc: 0.4523\n",
            "Epoch 29/50\n",
            "391/391 [==============================] - 31s 80ms/step - loss: 1.8198 - acc: 0.5012 - val_loss: 2.0877 - val_acc: 0.4617\n",
            "Epoch 30/50\n",
            "391/391 [==============================] - 31s 80ms/step - loss: 1.7958 - acc: 0.5068 - val_loss: 2.1663 - val_acc: 0.4463\n",
            "Epoch 31/50\n",
            "391/391 [==============================] - 32s 81ms/step - loss: 1.7624 - acc: 0.5154 - val_loss: 1.9911 - val_acc: 0.4823\n",
            "Epoch 32/50\n",
            "391/391 [==============================] - 31s 80ms/step - loss: 1.7259 - acc: 0.5286 - val_loss: 1.9080 - val_acc: 0.4993\n",
            "Epoch 33/50\n",
            "391/391 [==============================] - 31s 80ms/step - loss: 1.6934 - acc: 0.5329 - val_loss: 1.8630 - val_acc: 0.5079\n",
            "Epoch 34/50\n",
            "391/391 [==============================] - 32s 81ms/step - loss: 1.6748 - acc: 0.5385 - val_loss: 1.9468 - val_acc: 0.4983\n",
            "Epoch 35/50\n",
            "391/391 [==============================] - 31s 80ms/step - loss: 1.6421 - acc: 0.5477 - val_loss: 1.8533 - val_acc: 0.5183\n",
            "Epoch 36/50\n",
            "391/391 [==============================] - 32s 81ms/step - loss: 1.6244 - acc: 0.5507 - val_loss: 1.8523 - val_acc: 0.5149\n",
            "Epoch 37/50\n",
            "391/391 [==============================] - 31s 80ms/step - loss: 1.6046 - acc: 0.5555 - val_loss: 1.8445 - val_acc: 0.5231\n",
            "Epoch 38/50\n",
            "391/391 [==============================] - 32s 81ms/step - loss: 1.5910 - acc: 0.5596 - val_loss: 1.8609 - val_acc: 0.5228\n",
            "Epoch 39/50\n",
            "391/391 [==============================] - 32s 81ms/step - loss: 1.5659 - acc: 0.5661 - val_loss: 1.9690 - val_acc: 0.5099\n",
            "Epoch 40/50\n",
            "391/391 [==============================] - 32s 81ms/step - loss: 1.5481 - acc: 0.5698 - val_loss: 1.8841 - val_acc: 0.5176\n",
            "Epoch 41/50\n",
            "391/391 [==============================] - 32s 81ms/step - loss: 1.5138 - acc: 0.5798 - val_loss: 1.9055 - val_acc: 0.5241\n",
            "Epoch 42/50\n",
            "391/391 [==============================] - 31s 80ms/step - loss: 1.5048 - acc: 0.5831 - val_loss: 1.9296 - val_acc: 0.5142\n",
            "Epoch 43/50\n",
            "391/391 [==============================] - 32s 81ms/step - loss: 1.4789 - acc: 0.5875 - val_loss: 1.8491 - val_acc: 0.5304\n",
            "Epoch 44/50\n",
            "391/391 [==============================] - 32s 81ms/step - loss: 1.4731 - acc: 0.5899 - val_loss: 1.8687 - val_acc: 0.5260\n",
            "Epoch 45/50\n",
            "391/391 [==============================] - 31s 80ms/step - loss: 1.4448 - acc: 0.5987 - val_loss: 1.8116 - val_acc: 0.5415\n",
            "Epoch 46/50\n",
            "391/391 [==============================] - 31s 81ms/step - loss: 1.4312 - acc: 0.6005 - val_loss: 1.9180 - val_acc: 0.5195\n",
            "Epoch 47/50\n",
            "391/391 [==============================] - 32s 81ms/step - loss: 1.4182 - acc: 0.6041 - val_loss: 1.8629 - val_acc: 0.5335\n",
            "Epoch 48/50\n",
            "391/391 [==============================] - 31s 80ms/step - loss: 1.3976 - acc: 0.6093 - val_loss: 1.8613 - val_acc: 0.5367\n",
            "Epoch 49/50\n",
            "391/391 [==============================] - 32s 81ms/step - loss: 1.3765 - acc: 0.6149 - val_loss: 1.7983 - val_acc: 0.5488\n",
            "Epoch 50/50\n",
            "391/391 [==============================] - 32s 81ms/step - loss: 1.3597 - acc: 0.6208 - val_loss: 1.7878 - val_acc: 0.5510\n"
          ],
          "name": "stdout"
        }
      ]
    },
    {
      "cell_type": "code",
      "metadata": {
        "id": "Bpne_DyALjmB",
        "colab_type": "code",
        "colab": {}
      },
      "source": [
        "ans=model.evaluate_generator(datagen.flow(x_test,y_test,batch_size=128))"
      ],
      "execution_count": 0,
      "outputs": []
    },
    {
      "cell_type": "code",
      "metadata": {
        "id": "N5yvYrTfLqkA",
        "colab_type": "code",
        "colab": {
          "base_uri": "https://localhost:8080/",
          "height": 34
        },
        "outputId": "820299b5-b344-497f-8920-1bc15c3c140a"
      },
      "source": [
        "print(ans)"
      ],
      "execution_count": 17,
      "outputs": [
        {
          "output_type": "stream",
          "text": [
            "[1.7707178636550904, 0.5501]\n"
          ],
          "name": "stdout"
        }
      ]
    },
    {
      "cell_type": "code",
      "metadata": {
        "id": "ZU0_eUmxWoxW",
        "colab_type": "code",
        "colab": {}
      },
      "source": [
        "history.history['acc']"
      ],
      "execution_count": 0,
      "outputs": []
    },
    {
      "cell_type": "code",
      "metadata": {
        "id": "D5-94jhCZg-N",
        "colab_type": "code",
        "outputId": "e14d3ce1-5b52-4963-e1d4-36f1ec182dca",
        "colab": {
          "base_uri": "https://localhost:8080/",
          "height": 573
        }
      },
      "source": [
        "plt.plot(history.history['acc'])\n",
        "plt.plot(history.history['val_acc'])\n",
        "plt.title('model accuracy')\n",
        "plt.ylabel('accuracy')\n",
        "plt.xlabel('epoch')\n",
        "plt.legend(['train', 'test'], loc='upper left')\n",
        "plt.show()\n",
        "# summarize history for loss\n",
        "plt.plot(history.history['loss'])\n",
        "plt.plot(history.history['val_loss'])\n",
        "plt.title('model loss')\n",
        "plt.ylabel('loss')\n",
        "plt.xlabel('epoch')\n",
        "plt.legend(['train', 'test'], loc='upper left')\n",
        "plt.show()"
      ],
      "execution_count": 18,
      "outputs": [
        {
          "output_type": "display_data",
          "data": {
            "image/png": "[encoded data removed]",
            "text/plain": [
              "<Figure size 432x288 with 1 Axes>"
            ]
          },
          "metadata": {
            "tags": []
          }
        },
        {
          "output_type": "display_data",
          "data": {
            "image/png": "[encoded data removed]",
            "text/plain": [
              "<Figure size 432x288 with 1 Axes>"
            ]
          },
          "metadata": {
            "tags": []
          }
        }
      ]
    },
    {
      "cell_type": "code",
      "metadata": {
        "id": "hxH_NZDybFa_",
        "colab_type": "code",
        "colab": {}
      },
      "source": [
        "layers_output=[layer.output for layer in model.layers][1:]\n",
        "activation_model= Model(inp,layers_output)"
      ],
      "execution_count": 0,
      "outputs": []
    },
    {
      "cell_type": "code",
      "metadata": {
        "id": "Kta9LxtYbmcu",
        "colab_type": "code",
        "colab": {}
      },
      "source": [
        "img=x_train[100]\n",
        "plt.imshow(img)"
      ],
      "execution_count": 0,
      "outputs": []
    },
    {
      "cell_type": "code",
      "metadata": {
        "id": "wRfRJyWNbd63",
        "colab_type": "code",
        "colab": {}
      },
      "source": [
        "img1=img.reshape(1,32,32,3)\n",
        "activations=activation_model.predict(img1)\n",
        "print(activations[0].shape)\n",
        "print(activations[1].shape)\n",
        "print(activations[2].shape)\n",
        "print(activations[3].shape)\n",
        "print(activations[4].shape)\n",
        "print(activations[5].shape)\n",
        "f1=activations[0]\n",
        "f2=activations[1]\n",
        "f3=activations[2]\n",
        "plt.figure()\n",
        "fff,axf=plt.subplots(3,16)\n",
        "upto=16\n",
        "for it in range(upto):\n",
        "  axf[0,it].imshow(f1[0,:,:,it])\n",
        "  axf[1,it].imshow(f2[0,:,:,it])\n",
        "  axf[2,it].imshow(f3[0,:,:,it])\n",
        "plt.show()"
      ],
      "execution_count": 0,
      "outputs": []
    },
    {
      "cell_type": "code",
      "metadata": {
        "id": "QPAgQ7Gyd9t8",
        "colab_type": "code",
        "colab": {}
      },
      "source": [
        ""
      ],
      "execution_count": 0,
      "outputs": []
    },
    {
      "cell_type": "code",
      "metadata": {
        "id": "C8GyhK9Ne4xH",
        "colab_type": "code",
        "colab": {}
      },
      "source": [
        ""
      ],
      "execution_count": 0,
      "outputs": []
    }
  ]
}